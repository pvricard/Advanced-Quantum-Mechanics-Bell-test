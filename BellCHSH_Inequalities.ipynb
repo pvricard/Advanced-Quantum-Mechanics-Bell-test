{
 "cells": [
  {
   "cell_type": "code",
   "execution_count": 40,
   "id": "bb025108-2bdb-4141-b361-bc82bbc25928",
   "metadata": {},
   "outputs": [],
   "source": [
    "#quiskit\n",
    "import qiskit\n",
    "from qiskit import QuantumCircuit, ClassicalRegister, QuantumRegister, transpile, Aer, IBMQ\n",
    "from qiskit.tools.visualization import circuit_drawer\n",
    "from qiskit.tools.monitor import job_monitor, backend_monitor, backend_overview\n",
    "from qiskit.providers.aer import noise\n",
    "from qiskit_experiments.framework.experiment_data import ExperimentData"
   ]
  },
  {
   "cell_type": "code",
   "execution_count": 31,
   "id": "a03157bf-b81d-4dae-b423-1268b1a251bf",
   "metadata": {},
   "outputs": [],
   "source": [
    "#import python stuff\n",
    "import matplotlib.pyplot as plt\n",
    "import numpy as np\n",
    "import time"
   ]
  },
  {
   "cell_type": "code",
   "execution_count": 53,
   "id": "d382992d-f52b-433f-93f6-764c4742e12c",
   "metadata": {},
   "outputs": [
    {
     "name": "stderr",
     "output_type": "stream",
     
    }
   ],
   "source": [
    "# Set devices, if using a real device\n",
    "IBMQ.load_account()\n",
    "provider = IBMQ.get_provider('ibm-q')\n",
    "quito = provider.get_backend('ibmq_quito')"
   ]
  },
  {
   "cell_type": "code",
   "execution_count": 54,
   "id": "05c2652e-37b0-4219-9a57-798dc1450671",
   "metadata": {},
   "outputs": [],
   "source": [
    "sim = Aer.get_backend('aer_simulator')"
   ]
  },
  {
   "cell_type": "code",
   "execution_count": 55,
   "id": "840881a5-1ec6-4c38-8861-626e1fdaf298",
   "metadata": {},
   "outputs": [],
   "source": [
    "def make_chsh_circuit(theta_vec):#for each theta in theta_vec[], \n",
    "    #returns the quantum circuit required to do the measuremet\n",
    "    chsh_circuits = []\n",
    "    \n",
    "    for theta in theta_vec:\n",
    "        obs_vec = ['00', '01', '10', '11']\n",
    "        for el in obs_vec:\n",
    "            qc = QuantumCircuit(2,2)\n",
    "            qc.h(0) #hadamard\n",
    "            qc.cx(0, 1) #cnot\n",
    "            qc.ry(theta, 0) #rotation theta\n",
    "            for a in range(2):\n",
    "                if el[a] == '1':\n",
    "                    qc.h(a) \n",
    "            qc.measure(range(2),range(2))\n",
    "            chsh_circuits.append(qc)\n",
    "\n",
    "    return chsh_circuits  "
   ]
  },
  {
   "cell_type": "code",
   "execution_count": 56,
   "id": "a9bcd821-20e3-4fe3-ba0c-0b3e1dd0123c",
   "metadata": {},
   "outputs": [],
   "source": [
    "def compute_chsh_witness(counts):#compute exp values for the inequality,\n",
    "    #for each theta required\n",
    "    \n",
    "    # Order is ZZ,ZX,XZ,XX\n",
    "    CHSH1 = []\n",
    "    CHSH2 = []\n",
    "    Var1 = []\n",
    "    Var2 = []\n",
    "    # Divide the list of dictionaries in sets of 4\n",
    "    for i in range(0, len(counts), 4):  \n",
    "        theta_dict = counts[i:i + 4]\n",
    "        zz = theta_dict[0]\n",
    "        zx = theta_dict[1]\n",
    "        xz = theta_dict[2]\n",
    "        xx = theta_dict[3]\n",
    "\n",
    "        no_shots = sum(xx[y] for y in xx)\n",
    "\n",
    "        chsh1plus = 0\n",
    "        chsh1minus = 0\n",
    "        chsh2plus = 0\n",
    "        chsh2minus = 0\n",
    "        data = []\n",
    "\n",
    "        for element in zz:\n",
    "            parity = (-1)**(int(element[0])+int(element[1]))\n",
    "            if parity == 1:\n",
    "                chsh1plus+= zz[element]\n",
    "                chsh2plus+= zz[element]\n",
    "            else:\n",
    "                chsh1minus+= zz[element]\n",
    "                chsh2minus+= zz[element]\n",
    "\n",
    "        for element in zx:\n",
    "            parity = (-1)**(int(element[0])+int(element[1]))\n",
    "            if parity == 1:\n",
    "                chsh1plus+= zx[element]\n",
    "                chsh2minus+= zx[element]\n",
    "            else:\n",
    "                chsh1minus+= zx[element]\n",
    "                chsh2plus+= zx[element]\n",
    "\n",
    "\n",
    "        for element in xz:\n",
    "            parity = (-1)**(int(element[0])+int(element[1]))\n",
    "            if parity == 1:\n",
    "                chsh2plus+= xz[element]\n",
    "                chsh1minus+= xz[element]\n",
    "            else:\n",
    "                chsh2minus+= xz[element]\n",
    "                chsh1plus+= xz[element]\n",
    "\n",
    "\n",
    "        for element in xx:\n",
    "            parity = (-1)**(int(element[0])+int(element[1]))\n",
    "            if parity == 1:\n",
    "                chsh1plus+= xx[element]\n",
    "                chsh2plus+= xx[element]\n",
    "            else:\n",
    "                chsh1minus+= xx[element]\n",
    "                chsh2minus+= xx[element]\n",
    "\n",
    "\n",
    "        CHSH1.append((chsh1plus-chsh1minus)/no_shots)\n",
    "        CHSH2.append((chsh2plus-chsh2minus)/no_shots)\n",
    "        #data = [*np.ones(chsh1plus),*np.negative(np.ones(chsh1minus))]\n",
    "        #print(data)\n",
    "        #print(chsh1plus,chsh2plus,chsh1minus,chsh2minus)\n",
    "        Var1.append(np.var(np.concatenate((np.ones(chsh1plus),np.negative(np.ones(chsh1minus))), axis=None)))\n",
    "        #data = [*np.ones(chsh2plus),*np.negative(np.ones(chsh2minus))]\n",
    "        Var2.append(np.var(np.concatenate((np.ones(chsh2plus),np.negative(np.ones(chsh2minus))), axis=None)))\n",
    "    \n",
    "    return CHSH1, CHSH2, Var1, Var2"
   ]
  },
  {
   "cell_type": "code",
   "execution_count": 57,
   "id": "b95e1085-a56d-4f4e-bd4f-fabda5111588",
   "metadata": {},
   "outputs": [],
   "source": [
    "number_of_thetas = 25\n",
    "theta_vec = np.linspace(0,2*np.pi,number_of_thetas)\n",
    "my_chsh_circuits = make_chsh_circuit(theta_vec)"
   ]
  },
  {
   "cell_type": "code",
   "execution_count": 58,
   "id": "6c33a8d7-972a-49e2-b8d0-704fda5684ff",
   "metadata": {},
   "outputs": [],
   "source": [
    "# Execute and get counts\n",
    "result_ideal = sim.run(my_chsh_circuits).result()\n",
    "\n",
    "tic = time.time()"
   ]
  },
  {
   "cell_type": "code",
   "execution_count": 59,
   "id": "194e5234-10d3-4237-b19e-5f1d8c29e5bb",
   "metadata": {},
   "outputs": [
    {
     "name": "stdout",
     "output_type": "stream",
     "text": [
      "Job Status: job has successfully run\n"
     ]
    }
   ],
   "source": [
    "transpiled_circuits = transpile(my_chsh_circuits, quito)\n",
    "job_real = quito.run(transpiled_circuits, shots=8192)\n",
    "job_monitor(job_real)\n",
    "result_real = job_real.result()"
   ]
  },
  {
   "cell_type": "code",
   "execution_count": 44,
   "id": "bd76c249-f4d6-4ceb-8906-bfedf99e30b4",
   "metadata": {},
   "outputs": [
    {
     "name": "stdout",
     "output_type": "stream",
     "text": [
      "Traceback \u001b[1;36m(most recent call last)\u001b[0m:\n",
      "  Input \u001b[0;32mIn [52]\u001b[0m in \u001b[0;35m<cell line: 1>\u001b[0m\n",
      "    result_real = provider.runtime.job(\"633ae6f5338f42906eb74f58\")\n",
      "\u001b[1;36m  File \u001b[1;32m/opt/conda/lib/python3.8/site-packages/qiskit/providers/ibmq/runtime/ibm_runtime_service.py:550\u001b[1;36m in \u001b[1;35mjob\u001b[1;36m\u001b[0m\n",
      "\u001b[1;33m    raise RuntimeJobNotFound(f\"Job not found: {ex.message}\") from None\u001b[0m\n",
      "\u001b[1;31mRuntimeJobNotFound\u001b[0m\u001b[1;31m:\u001b[0m 'Job not found: 404 Client Error: Not Found for url: https://runtime-us-east.quantum-computing.ibm.com/jobs/633ae6f5338f42906eb74f58. {\"errors\":[{\"code\":\"not_found\",\"message\":\"job not found\",\"more_info\":\"https://cloud.ibm.com/apidocs/quantum-computing#error-handling\"}],\"trace\":\"cctf9pi0kk8qsducvad0\"}'\n",
      "\n",
      "Use %tb to get the full traceback.\n"
     ]
    },
    {
     "data": {
      "text/html": [
       "\n",
       "<style>\n",
       ".button {\n",
       "  border: none;\n",
       "  color: white;\n",
       "  padding: 4px 8px;\n",
       "  text-align: center;\n",
       "  text-decoration: none;\n",
       "  display: inline-block;\n",
       "  font-size: 12px;\n",
       "  margin: 4px 2px;\n",
       "  transition-duration: 0.2s;\n",
       "  cursor: pointer;\n",
       "}\n",
       ".iqx-button {\n",
       "  background-color: #0f62fe; \n",
       "  color: white; \n",
       "}\n",
       ".iqx-button:hover {\n",
       "  background-color: #0043ce;\n",
       "  color: white;\n",
       "}\n",
       "</style>\n",
       "<a href=\"https://stackoverflow.com/search?q=RuntimeJobNotFound: Job not found: 404 Client Error: Not Found for url: https://runtime-us-east.quantum-computing.ibm.com/jobs/633ae6f5338f42906eb74f58. {\"errors\":[{\"code\":\"not_found\",\"message\":\"job not found\",\"more_info\":\"https://cloud.ibm.com/apidocs/quantum-computing#error-handling\"}],\"trace\":\"cctf9pi0kk8qsducvad0\"}\" target='_blank'><button class='button iqx-button'>Search for solution online</button></a>\n"
      ],
      "text/plain": [
       "<IPython.core.display.HTML object>"
      ]
     },
     "metadata": {},
     "output_type": "display_data"
    }
   ],
   "source": [
    "result_real = provider.runtime.job(\"633ae6f5338f42906eb74f58\")"
   ]
  },
  {
   "cell_type": "code",
   "execution_count": 60,
   "id": "7df50b00-daf3-4610-b8ae-0b58af27d96d",
   "metadata": {},
   "outputs": [
    {
     "name": "stdout",
     "output_type": "stream",
     "text": [
      "1826.1288468837738\n"
     ]
    }
   ],
   "source": [
    "toc = time.time()\n",
    "\n",
    "print(toc-tic)"
   ]
  },
  {
   "cell_type": "code",
   "execution_count": 61,
   "id": "ce1c2c60-b667-49d2-8c8c-82680890b28a",
   "metadata": {},
   "outputs": [],
   "source": [
    "CHSH1_ideal, CHSH2_ideal, Var1_ideal, Var2_ideal = compute_chsh_witness(result_ideal.get_counts())"
   ]
  },
  {
   "cell_type": "code",
   "execution_count": 62,
   "id": "d808b74f-e854-4a80-94f4-a34a9fc732e9",
   "metadata": {},
   "outputs": [],
   "source": [
    "CHSH1_real, CHSH2_real, Var1_real, Var2_real = compute_chsh_witness(result_real.get_counts())"
   ]
  },
  {
   "cell_type": "code",
   "execution_count": 86,
   "id": "82b3cc57-bda9-4dc3-8e38-df7e6181985e",
   "metadata": {},
   "outputs": [
    {
     "data": {
      "text/plain": [
       "Text(0, 0.5, 'CHSH witness')"
      ]
     },
     "execution_count": 86,
     "metadata": {},
     "output_type": "execute_result"
    },
    {
     "data": {
      "image/png": "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\n",
      "text/plain": [
       "<Figure size 864x576 with 1 Axes>"
      ]
     },
     "metadata": {
      "needs_background": "light"
     },
     "output_type": "display_data"
    }
   ],
   "source": [
    "plt.figure(figsize=(12,8))\n",
    "plt.rcParams.update({'font.size': 22})\n",
    "plt.errorbar(theta_vec,CHSH1_ideal,yerr=np.sqrt(Var1_ideal),fmt='x-',capsize=5 ,label = 'Noiseless')\n",
    "#plt.errorbar(theta_vec,CHSH2_ideal,yerr=np.sqrt(Var2_ideal) ,label = 'CHSH2 Noiseless')\n",
    "\n",
    "plt.errorbar(theta_vec,CHSH1_real,yerr=np.sqrt(Var1_real), fmt='o-',capsize=5 ,label = 'Real')\n",
    "#plt.errorbar(theta_vec,CHSH2_real,yerr=np.sqrt(Var2_real) ,label = 'CHSH2 Real')\n",
    "\n",
    "plt.grid(which='major',axis='both')\n",
    "plt.rcParams.update({'font.size': 16})\n",
    "plt.legend(loc='lower left')\n",
    "plt.axhline(y=2, color='r', linestyle='-')\n",
    "plt.axhline(y=-2, color='r', linestyle='-')\n",
    "plt.axhline(y=np.sqrt(2)*2, color='k', linestyle='-.')\n",
    "plt.axhline(y=-np.sqrt(2)*2, color='k', linestyle='-.')\n",
    "plt.xlabel('Theta')\n",
    "plt.ylabel('CHSH witness')"
   ]
  },
  {
   "cell_type": "code",
   "execution_count": 64,
   "id": "03d262e9-cef8-4275-b246-9009fdb12cc4",
   "metadata": {},
   "outputs": [
    {
     "name": "stdout",
     "output_type": "stream",
     "text": [
      "[0.         0.26179939 0.52359878 0.78539816 1.04719755 1.30899694\n",
      " 1.57079633 1.83259571 2.0943951  2.35619449 2.61799388 2.87979327\n",
      " 3.14159265 3.40339204 3.66519143 3.92699082 4.1887902  4.45058959\n",
      " 4.71238898 4.97418837 5.23598776 5.49778714 5.75958653 6.02138592\n",
      " 6.28318531]\n"
     ]
    }
   ],
   "source": [
    "print(theta_vec)"
   ]
  },
  {
   "cell_type": "code",
   "execution_count": 77,
   "id": "c93e0a20-b029-4873-b760-cab57165ab2b",
   "metadata": {},
   "outputs": [
    {
     "data": {
      "text/plain": [
       "[2.056640625,\n",
       " 1.486328125,\n",
       " 0.767578125,\n",
       " -0.017578125,\n",
       " -0.787109375,\n",
       " -1.43359375,\n",
       " -2.0625,\n",
       " -2.490234375,\n",
       " -2.72265625,\n",
       " -2.765625,\n",
       " -2.697265625,\n",
       " -2.38671875,\n",
       " -2.0234375,\n",
       " -1.4609375,\n",
       " -0.814453125,\n",
       " -0.04296875,\n",
       " 0.70703125,\n",
       " 1.404296875,\n",
       " 1.9921875,\n",
       " 2.421875,\n",
       " 2.765625,\n",
       " 2.810546875,\n",
       " 2.765625,\n",
       " 2.466796875,\n",
       " 2.021484375]"
      ]
     },
     "execution_count": 77,
     "metadata": {},
     "output_type": "execute_result"
    }
   ],
   "source": [
    "CHSH1_ideal"
   ]
  },
  {
   "cell_type": "code",
   "execution_count": 78,
   "id": "088860a3-50b8-4805-8a5d-4fcd2e140521",
   "metadata": {},
   "outputs": [
    {
     "data": {
      "text/plain": [
       "[1.943359375,\n",
       " 2.427734375,\n",
       " 2.689453125,\n",
       " 2.810546875,\n",
       " 2.697265625,\n",
       " 2.47265625,\n",
       " 1.9375,\n",
       " 1.337890625,\n",
       " 0.7578125,\n",
       " 0.046875,\n",
       " -0.775390625,\n",
       " -1.4609375,\n",
       " -1.9765625,\n",
       " -2.41015625,\n",
       " -2.650390625,\n",
       " -2.8125,\n",
       " -2.76171875,\n",
       " -2.462890625,\n",
       " -2.0078125,\n",
       " -1.4453125,\n",
       " -0.72265625,\n",
       " -0.013671875,\n",
       " 0.703125,\n",
       " 1.349609375,\n",
       " 1.978515625]"
      ]
     },
     "execution_count": 78,
     "metadata": {},
     "output_type": "execute_result"
    }
   ],
   "source": [
    "CHSH2_ideal"
   ]
  },
  {
   "cell_type": "code",
   "execution_count": 79,
   "id": "8613a373-4ea2-46c4-af4c-be5bc8cf242a",
   "metadata": {},
   "outputs": [
    {
     "data": {
      "text/plain": [
       "[1.707275390625,\n",
       " 1.25927734375,\n",
       " 0.684326171875,\n",
       " 0.060791015625,\n",
       " -0.5322265625,\n",
       " -1.1142578125,\n",
       " -1.670654296875,\n",
       " -2.056396484375,\n",
       " -2.297607421875,\n",
       " -2.390869140625,\n",
       " -2.3515625,\n",
       " -2.1025390625,\n",
       " -1.712158203125,\n",
       " -1.25146484375,\n",
       " -0.67626953125,\n",
       " -0.075439453125,\n",
       " 0.56591796875,\n",
       " 1.135986328125,\n",
       " 1.69677734375,\n",
       " 2.03125,\n",
       " 2.294189453125,\n",
       " 2.363037109375,\n",
       " 2.328125,\n",
       " 2.112548828125,\n",
       " 1.712890625]"
      ]
     },
     "execution_count": 79,
     "metadata": {},
     "output_type": "execute_result"
    }
   ],
   "source": [
    "CHSH1_real"
   ]
  },
  {
   "cell_type": "code",
   "execution_count": 80,
   "id": "92608355-9c4a-444c-8d44-29bf0e22622f",
   "metadata": {},
   "outputs": [
    {
     "data": {
      "text/plain": [
       "[1.716064453125,\n",
       " 2.048828125,\n",
       " 2.285400390625,\n",
       " 2.373779296875,\n",
       " 2.33154296875,\n",
       " 2.14599609375,\n",
       " 1.698974609375,\n",
       " 1.265380859375,\n",
       " 0.683349609375,\n",
       " 0.067626953125,\n",
       " -0.55224609375,\n",
       " -1.13916015625,\n",
       " -1.666259765625,\n",
       " -1.9892578125,\n",
       " -2.27197265625,\n",
       " -2.361083984375,\n",
       " -2.34228515625,\n",
       " -2.080810546875,\n",
       " -1.70947265625,\n",
       " -1.2763671875,\n",
       " -0.687744140625,\n",
       " -0.056396484375,\n",
       " 0.57958984375,\n",
       " 1.112060546875,\n",
       " 1.666015625]"
      ]
     },
     "execution_count": 80,
     "metadata": {},
     "output_type": "execute_result"
    }
   ],
   "source": [
    "CHSH2_real"
   ]
  },
  {
   "cell_type": "code",
   "execution_count": 81,
   "id": "d388e989-4df0-4366-b5e8-8b470eb27e8b",
   "metadata": {},
   "outputs": [
    {
     "name": "stdout",
     "output_type": "stream",
     "text": [
      "[0.8178256712853909, 0.9008887857198715, 0.9707311056554317, 0.9997690282762051, 0.9822959303855896, 0.9224018454551697, 0.8255571387708187, 0.7357020936906338, 0.6700625084340572, 0.6427340470254421, 0.6543846130371094, 0.7237080931663513, 0.8167821429669857, 0.9021147340536118, 0.9714162200689316, 0.9996443055570126, 0.9799835532903671, 0.9193459413945675, 0.8200591653585434, 0.74212646484375, 0.6710434220731258, 0.6510034762322903, 0.6612396240234375, 0.7210710905492306, 0.8166253566741943]\n"
     ]
    }
   ],
   "source": [
    "print(Var1_real)"
   ]
  },
  {
   "cell_type": "code",
   "execution_count": 82,
   "id": "ce36f84f-0ed8-4850-b4a5-b9169f4b4ee3",
   "metadata": {},
   "outputs": [
    {
     "name": "stdout",
     "output_type": "stream",
     "text": [
      "[0.8159451745450497, 0.7376439571380615, 0.6735590659081936, 0.6478232406079769, 0.6602442115545273, 0.7121687978506088, 0.8195928297936916, 0.8999257050454617, 0.9708145819604397, 0.9997141622006893, 0.9809390157461166, 0.9188946336507797, 0.8264736495912075, 0.7526783347129822, 0.67738376557827, 0.6515801511704922, 0.6571062654256821, 0.7293892167508602, 0.8173564523458481, 0.8981804251670837, 0.9704379998147488, 0.9998012147843838, 0.9790047258138657, 0.9227075837552547, 0.8265244960784912]\n"
     ]
    }
   ],
   "source": [
    "print(Var2_real)"
   ]
  },
  {
   "cell_type": "code",
   "execution_count": null,
   "id": "3fd22f3c-a8dc-43c5-9ef9-0c595e4d30ae",
   "metadata": {},
   "outputs": [],
   "source": []
  }
 ],
 "metadata": {
  "kernelspec": {
   "display_name": "Python 3 (ipykernel)",
   "language": "python",
   "name": "python3"
  },
  "language_info": {
   "codemirror_mode": {
    "name": "ipython",
    "version": 3
   },
   "file_extension": ".py",
   "mimetype": "text/x-python",
   "name": "python",
   "nbconvert_exporter": "python",
   "pygments_lexer": "ipython3",
   "version": "3.8.13"
  },
  "widgets": {
   "application/vnd.jupyter.widget-state+json": {
    "state": {},
    "version_major": 2,
    "version_minor": 0
   }
  }
 },
 "nbformat": 4,
 "nbformat_minor": 5
}
