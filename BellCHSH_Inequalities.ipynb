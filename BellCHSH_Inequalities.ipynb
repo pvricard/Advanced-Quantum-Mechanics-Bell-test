{
 "cells": [
  {
   "cell_type": "code",
   "execution_count": 19,
   "id": "bb025108-2bdb-4141-b361-bc82bbc25928",
   "metadata": {},
   "outputs": [],
   "source": [
    "#quiskit\n",
    "import qiskit\n",
    "from qiskit import QuantumCircuit, ClassicalRegister, QuantumRegister, transpile, Aer, IBMQ\n",
    "from qiskit.tools.visualization import circuit_drawer\n",
    "from qiskit.tools.monitor import job_monitor, backend_monitor, backend_overview\n",
    "from qiskit.providers.aer import noise\n",
    "from qiskit_experiments.framework.experiment_data import ExperimentData"
   ]
  },
  {
   "cell_type": "code",
   "execution_count": 20,
   "id": "a03157bf-b81d-4dae-b423-1268b1a251bf",
   "metadata": {},
   "outputs": [],
   "source": [
    "#import python stuff\n",
    "import matplotlib.pyplot as plt\n",
    "import numpy as np\n",
    "import time"
   ]
  },
  {
   "cell_type": "code",
   "execution_count": 21,
   "id": "d382992d-f52b-433f-93f6-764c4742e12c",
   "metadata": {},
   "outputs": [
    {
     "name": "stderr",
     "output_type": "stream",
     "text": [
      "ibmqfactory.load_account:WARNING:2022-10-07 18:21:43,544: Credentials are already in use. The existing account in the session will be replaced.\n"
     ]
    }
   ],
   "source": [
    "# Set devices, if using a real device\n",
    "IBMQ.load_account()\n",
    "provider = IBMQ.get_provider('ibm-q')\n",
    "quito = provider.get_backend('ibmq_quito')"
   ]
  },
  {
   "cell_type": "code",
   "execution_count": 22,
   "id": "05c2652e-37b0-4219-9a57-798dc1450671",
   "metadata": {},
   "outputs": [],
   "source": [
    "sim = Aer.get_backend('aer_simulator')"
   ]
  },
  {
   "cell_type": "code",
   "execution_count": 23,
   "id": "840881a5-1ec6-4c38-8861-626e1fdaf298",
   "metadata": {},
   "outputs": [],
   "source": [
    "def make_chsh_circuit(theta_vec):#for each theta in theta_vec[], \n",
    "    #returns the quantum circuit required to do the measuremet\n",
    "    chsh_circuits = []\n",
    "    \n",
    "    for theta in theta_vec:\n",
    "        obs_vec = ['00', '01', '10', '11']\n",
    "        for el in obs_vec:\n",
    "            qc = QuantumCircuit(2,2)\n",
    "            qc.h(0) #hadamard\n",
    "            qc.cx(0, 1) #cnot\n",
    "            qc.ry(theta, 0) #rotation theta along y axes\n",
    "            for a in range(2):\n",
    "                if el[a] == '1':\n",
    "                    qc.h(a) \n",
    "            qc.measure(range(2),range(2))\n",
    "            chsh_circuits.append(qc)\n",
    "\n",
    "    return chsh_circuits  "
   ]
  },
  {
   "cell_type": "code",
   "execution_count": 24,
   "id": "a9bcd821-20e3-4fe3-ba0c-0b3e1dd0123c",
   "metadata": {},
   "outputs": [],
   "source": [
    "def compute_chsh_witness(counts):#compute exp values for the inequality,\n",
    "    #for each theta required\n",
    "    \n",
    "    # Order is ZZ,ZX,XZ,XX\n",
    "    CHSH = []\n",
    "    Var = []\n",
    "\n",
    "    # Divide the list of dictionaries in sets of 4\n",
    "    for i in range(0, len(counts), 4):  \n",
    "        theta_dict = counts[i:i + 4]\n",
    "        zz = theta_dict[0]\n",
    "        zx = theta_dict[1]\n",
    "        xz = theta_dict[2]\n",
    "        xx = theta_dict[3]\n",
    "\n",
    "        no_shots = sum(xx[y] for y in xx)\n",
    "\n",
    "        chshplus = 0\n",
    "        chshminus = 0\n",
    "\n",
    "        for element in zz:\n",
    "            parity = (-1)**(int(element[0])+int(element[1]))\n",
    "            if parity == 1:\n",
    "                chshplus+= zz[element]\n",
    "            else:\n",
    "                chshminus+= zz[element]\n",
    "\n",
    "        for element in zx:\n",
    "            parity = (-1)**(int(element[0])+int(element[1]))\n",
    "            if parity == 1:\n",
    "                chshplus+= zx[element]\n",
    "            else:\n",
    "                chshminus+= zx[element]\n",
    "\n",
    "\n",
    "        for element in xz:\n",
    "            parity = (-1)**(int(element[0])+int(element[1]))\n",
    "            if parity == 1:\n",
    "                chshminus+= xz[element]\n",
    "            else:\n",
    "                chshplus+= xz[element]\n",
    "\n",
    "\n",
    "        for element in xx:\n",
    "            parity = (-1)**(int(element[0])+int(element[1]))\n",
    "            if parity == 1:\n",
    "                chshplus+= xx[element]\n",
    "            else:\n",
    "                chshminus+= xx[element]\n",
    "\n",
    "\n",
    "        CHSH.append((chshplus-chshminus)/no_shots)\n",
    "        Var.append(np.var(np.concatenate((np.ones(chshplus),np.negative(np.ones(chshminus))), axis=None)))\n",
    "    \n",
    "    return CHSH, Var"
   ]
  },
  {
   "cell_type": "code",
   "execution_count": 25,
   "id": "b95e1085-a56d-4f4e-bd4f-fabda5111588",
   "metadata": {},
   "outputs": [],
   "source": [
    "number_of_thetas = 25\n",
    "theta_vec = np.linspace(0,2*np.pi,number_of_thetas)\n",
    "my_chsh_circuits = make_chsh_circuit(theta_vec)"
   ]
  },
  {
   "cell_type": "code",
   "execution_count": 26,
   "id": "6c33a8d7-972a-49e2-b8d0-704fda5684ff",
   "metadata": {},
   "outputs": [],
   "source": [
    "# Execute and get counts\n",
    "result_ideal = sim.run(my_chsh_circuits).result()\n",
    "\n",
    "tic = time.time()"
   ]
  },
  {
   "cell_type": "code",
   "execution_count": 27,
   "id": "194e5234-10d3-4237-b19e-5f1d8c29e5bb",
   "metadata": {},
   "outputs": [
    {
     "name": "stdout",
     "output_type": "stream",
     "text": [
      "Job Status: job has successfully run\n"
     ]
    }
   ],
   "source": [
    "transpiled_circuits = transpile(my_chsh_circuits, quito)\n",
    "job_real = quito.run(transpiled_circuits, shots=8192)\n",
    "job_monitor(job_real)\n",
    "result_real = job_real.result()"
   ]
  },
  {
   "cell_type": "code",
   "execution_count": 28,
   "id": "7df50b00-daf3-4610-b8ae-0b58af27d96d",
   "metadata": {},
   "outputs": [
    {
     "name": "stdout",
     "output_type": "stream",
     "text": [
      "1233.9192197322845\n"
     ]
    }
   ],
   "source": [
    "toc = time.time()\n",
    "\n",
    "print(toc-tic)"
   ]
  },
  {
   "cell_type": "code",
   "execution_count": 29,
   "id": "ce1c2c60-b667-49d2-8c8c-82680890b28a",
   "metadata": {},
   "outputs": [],
   "source": [
    "CHSH_ideal, Var_ideal = compute_chsh_witness(result_ideal.get_counts())"
   ]
  },
  {
   "cell_type": "code",
   "execution_count": 30,
   "id": "d808b74f-e854-4a80-94f4-a34a9fc732e9",
   "metadata": {},
   "outputs": [],
   "source": [
    "CHSH_real, Var_real = compute_chsh_witness(result_real.get_counts())"
   ]
  },
  {
   "cell_type": "code",
   "execution_count": 31,
   "id": "e4effdcd-59cf-4d21-b2f6-24de13dd2bdb",
   "metadata": {},
   "outputs": [],
   "source": [
    "#x-axis\n",
    "stepsx = np.arange(0, 2 * np.pi+np.pi/4, step=(np.pi / 4))\n",
    "labelsx=[0]\n",
    "for i in range(len(stepsx)-1):\n",
    "    if (i+1)%2!=0:\n",
    "        label=str(i+1)+\"π/4\"\n",
    "        if (i+1)==1:\n",
    "                label='π/4'\n",
    "    else:\n",
    "        labeli=(i+1)\n",
    "        if labeli%4==0:\n",
    "            label=str(int(labeli/4))+'π'\n",
    "            if labeli/4==1:\n",
    "                label='π'\n",
    "        else:\n",
    "            label=str(int(labeli/2))+'π/2'\n",
    "            if labeli/2==1:\n",
    "                label='π/2'\n",
    "    labelsx.append(label)"
   ]
  },
  {
   "cell_type": "code",
   "execution_count": 32,
   "id": "82b3cc57-bda9-4dc3-8e38-df7e6181985e",
   "metadata": {},
   "outputs": [
    {
     "data": {
      "image/png": "[encoded data removed]",
      "text/plain": [
       "<Figure size 864x576 with 1 Axes>"
      ]
     },
     "metadata": {
      "needs_background": "light"
     },
     "output_type": "display_data"
    }
   ],
   "source": [
    "plt.figure(figsize=(12,8))\n",
    "plt.rcParams.update({'font.size': 22})\n",
    "\n",
    "plt.errorbar(theta_vec,CHSH_ideal,yerr=np.sqrt(Var_ideal),fmt='x-',capsize=5 ,label = 'Simulation')\n",
    "plt.errorbar(theta_vec,CHSH_real,yerr=np.sqrt(Var_real), fmt='o-',capsize=5 ,label = 'Real')\n",
    "\n",
    "\n",
    "\n",
    "\n",
    "plt.grid(which='major',axis='both')\n",
    "plt.rcParams.update({'font.size': 16})\n",
    "plt.legend(loc='lower left')\n",
    "plt.axhline(y=2, color='g', linestyle='-')\n",
    "plt.axhline(y=-2, color='g', linestyle='-')\n",
    "plt.axhline(y=np.sqrt(2)*2, color='k', linestyle='-.')\n",
    "plt.axhline(y=-np.sqrt(2)*2, color='k', linestyle='-.')\n",
    "\n",
    "plt.xticks(stepsx, labelsx)\n",
    "plt.xlabel(r'$\\theta$ (rad)')\n",
    "plt.ylabel(r'$S$')\n",
    "plt.plot()\n",
    "plt.savefig('name.pdf')"
   ]
  },
  {
   "cell_type": "code",
   "execution_count": 14,
   "id": "03d262e9-cef8-4275-b246-9009fdb12cc4",
   "metadata": {},
   "outputs": [
    {
     "name": "stdout",
     "output_type": "stream",
     "text": [
      "[0.         0.26179939 0.52359878 0.78539816 1.04719755 1.30899694\n",
      " 1.57079633 1.83259571 2.0943951  2.35619449 2.61799388 2.87979327\n",
      " 3.14159265 3.40339204 3.66519143 3.92699082 4.1887902  4.45058959\n",
      " 4.71238898 4.97418837 5.23598776 5.49778714 5.75958653 6.02138592\n",
      " 6.28318531]\n"
     ]
    }
   ],
   "source": [
    "print(theta_vec)"
   ]
  },
  {
   "cell_type": "code",
   "execution_count": 15,
   "id": "c93e0a20-b029-4873-b760-cab57165ab2b",
   "metadata": {},
   "outputs": [
    {
     "name": "stdout",
     "output_type": "stream",
     "text": [
      "[1.970703125, 1.416015625, 0.73046875, 0.02734375, -0.75390625, -1.443359375, -1.947265625, -2.451171875, -2.693359375, -2.765625, -2.767578125, -2.603515625, -1.96875, -1.3515625, -0.6953125, -0.02734375, 0.748046875, 1.439453125, 1.947265625, 2.486328125, 2.76171875, 2.771484375, 2.703125, 2.5546875, 1.9296875]\n"
     ]
    }
   ],
   "source": [
    "print(CHSH_ideal)"
   ]
  },
  {
   "cell_type": "code",
   "execution_count": 16,
   "id": "8613a373-4ea2-46c4-af4c-be5bc8cf242a",
   "metadata": {},
   "outputs": [
    {
     "name": "stdout",
     "output_type": "stream",
     "text": [
      "[1.68603515625, 1.260009765625, 0.70458984375, 0.0537109375, -0.537109375, -1.1220703125, -1.645263671875, -2.007568359375, -2.24267578125, -2.3583984375, -2.30859375, -2.0849609375, -1.677001953125, -1.251220703125, -0.678466796875, -0.06787109375, 0.565185546875, 1.09912109375, 1.6640625, 2.043701171875, 2.309814453125, 2.34130859375, 2.306396484375, 2.08056640625, 1.70361328125]\n"
     ]
    }
   ],
   "source": [
    "print(CHSH_real)"
   ]
  },
  {
   "cell_type": "code",
   "execution_count": 17,
   "id": "d388e989-4df0-4366-b5e8-8b470eb27e8b",
   "metadata": {},
   "outputs": [
    {
     "name": "stdout",
     "output_type": "stream",
     "text": [
      "[0.8223303407430649, 0.900773461908102, 0.9689720720052719, 0.9998196959495544, 0.9819695949554443, 0.9213098883628845, 0.8308192156255245, 0.7481043301522732, 0.6856503337621689, 0.6523723006248474, 0.6668996810913086, 0.7283086180686951, 0.8242290280759335, 0.9021529220044613, 0.9712301753461361, 0.9997120946645737, 0.9800353311002254, 0.9244958013296127, 0.8269309997558594, 0.738955345004797, 0.6665473245084286, 0.6573921293020248, 0.667533453553915, 0.7294527143239975, 0.818606361746788]\n"
     ]
    }
   ],
   "source": [
    "print(Var_real)"
   ]
  },
  {
   "cell_type": "code",
   "execution_count": 18,
   "id": "3fd22f3c-a8dc-43c5-9ef9-0c595e4d30ae",
   "metadata": {},
   "outputs": [
    {
     "name": "stdout",
     "output_type": "stream",
     "text": [
      "[0.7572705745697021, 0.8746812343597412, 0.9666509628295898, 0.9999532699584961, 0.9644765853881836, 0.8697946071624756, 0.763009786605835, 0.6244847774505615, 0.5466134548187256, 0.5219573974609375, 0.5212819576263428, 0.5763566493988037, 0.75775146484375, 0.8858299255371094, 0.9697837829589844, 0.9999532699584961, 0.9650266170501709, 0.8704984188079834, 0.763009786605835, 0.613635778427124, 0.5233068466186523, 0.5199296474456787, 0.5433197021484375, 0.5920982360839844, 0.7672691345214844]\n"
     ]
    }
   ],
   "source": [
    "print(Var_ideal)"
   ]
  },
  {
   "cell_type": "code",
   "execution_count": null,
   "id": "0664a41c-7cf2-4551-a83f-5b57d67fde63",
   "metadata": {},
   "outputs": [],
   "source": []
  }
 ],
 "metadata": {
  "kernelspec": {
   "display_name": "Python 3 (ipykernel)",
   "language": "python",
   "name": "python3"
  },
  "language_info": {
   "codemirror_mode": {
    "name": "ipython",
    "version": 3
   },
   "file_extension": ".py",
   "mimetype": "text/x-python",
   "name": "python",
   "nbconvert_exporter": "python",
   "pygments_lexer": "ipython3",
   "version": "3.8.13"
  },
  "widgets": {
   "application/vnd.jupyter.widget-state+json": {
    "state": {},
    "version_major": 2,
    "version_minor": 0
   }
  }
 },
 "nbformat": 4,
 "nbformat_minor": 5
}
